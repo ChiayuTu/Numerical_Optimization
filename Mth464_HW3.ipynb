{
  "nbformat": 4,
  "nbformat_minor": 0,
  "metadata": {
    "colab": {
      "provenance": []
    },
    "kernelspec": {
      "name": "python3",
      "display_name": "Python 3"
    },
    "language_info": {
      "name": "python"
    }
  },
  "cells": [
    {
      "cell_type": "code",
      "execution_count": null,
      "metadata": {
        "id": "CuGavkh_IMSq"
      },
      "outputs": [],
      "source": [
        "#import libraries\n",
        "import numpy as np\n",
        "import matplotlib.pyplot as plt\n",
        "from numpy import linalg as LA\n",
        "from numpy.linalg import inv\n",
        "from matplotlib import pyplot\n",
        "%matplotlib inline"
      ]
    },
    {
      "cell_type": "code",
      "source": [
        "from numpy.core.fromnumeric import shape\n",
        "# Conjugate Gradient method\n",
        "def CongjugateGradient(A, b, tol):\n",
        "  # Initializa x\n",
        "  x = np.zeros((A.shape[0], 1))\n",
        "  # Calculate r = Ax - b\n",
        "  r = A @ x - b\n",
        "  # Assign p = -r\n",
        "  pk = -r\n",
        "  # For k = 0, 1, 2, ....\n",
        "  k = 0\n",
        "  while LA.norm(r) > 0:\n",
        "    # Calculate Alpha = -r^T * pk / p^T * A * p\n",
        "    Alpha_k = (-(r.T) * pk) / ((pk.T) @ A @ pk)\n",
        "    # Update x = x + Alpha_k * pk\n",
        "    x = x + Alpha_k @ pk\n",
        "    # Calculate r\n",
        "    r = A @ x - b\n",
        "    # Calculate Beta\n",
        "    Beta = ((r.T) @ A @ pk) / ((pk.T) @ A @ pk)\n",
        "    # Update pk = -r + Beta * pk\n",
        "    pk = (-r.T) + Beta * pk\n",
        "    k = k + 1\n",
        "  return x, k\n",
        "\n"
      ],
      "metadata": {
        "id": "PCQx8mCRIRH3"
      },
      "execution_count": null,
      "outputs": []
    },
    {
      "cell_type": "code",
      "source": [
        "# Rosenbrock function with A = 1 and A = 100\n",
        "def Rosenbrock_func(A, s):\n",
        "  func = A * (s[1, 0] - s[0, 0]**2)**2 + (1 - (s[0, 0]))**2\n",
        "  return func"
      ],
      "metadata": {
        "id": "rp--wfM2ISCz"
      },
      "execution_count": null,
      "outputs": []
    },
    {
      "cell_type": "code",
      "source": [
        "# Fletcher-Reeves Non-linear Conjugate Gradient method \n",
        "def FR_CG_A1(x0, rho, alpha_0, c, tol):\n",
        "  x = x0\n",
        "  cost = []\n",
        "  norm = []\n",
        "\n",
        "  # Define Gradient function\n",
        "  g_func = np.array([[-4 * x[0, 0] * (x[1, 0] - x[0, 0]**2) - 2 * (1 - x[0, 0])], [2 * (x[1, 0] - x[0, 0]**2)]])\n",
        "  # Assign pk = -grad_func\n",
        "  pk = -g_func\n",
        "  k = 0\n",
        "  count = 0\n",
        "\n",
        "  while LA.norm(g_func) > tol:\n",
        "    # gradient_f = np.array([[-4 * x[0,0] * (x[1, 0] - x[0, 0]**2) - 2 * (1 - x[0, 0])], [2 * (x[1, 0] - x[0, 0]**2)]])\n",
        "    grad_func = np.array([[-4 * x[0, 0] * (x[1, 0] - x[0, 0]**2) - 2 * (1 - x[0, 0])], [2 * (x[1, 0] - x[0, 0]**2)]])\n",
        "    alpha = alpha_0\n",
        "    while Rosenbrock_func(1, x + alpha * (pk)) > Rosenbrock_func(1, x) + c * alpha * ((grad_func.T) @ (pk)):\n",
        "      alpha = rho * alpha\n",
        "      count += 2\n",
        "\n",
        "    x = x + alpha * (pk)\n",
        "    grad_func_one = np.array([[-4 * x[0, 0] * (x[1, 0] - x[0, 0]**2) - 2 * (1 - x[0, 0])], [2 * (x[1, 0] - x[0, 0]**2)]])\n",
        "    FR_beta = ((grad_func_one.T) @ (grad_func_one)) / ((grad_func.T) @ (grad_func))\n",
        "    pk = -grad_func_one + FR_beta * pk\n",
        "\n",
        "    # Check descent direction\n",
        "    if pk.T @ grad_func_one > 0:\n",
        "      pk = -np.array([[-4 * x[0, 0] * (x[1, 0] - x[0, 0]**2) - 2 * (1 - x[0, 0])], [2 * (x[1, 0] - x[0, 0]**2)]])\n",
        "    \n",
        "    k = k + 1\n",
        "    g_func = grad_func_one\n",
        "\n",
        "    cost.append(Rosenbrock_func(1,x))\n",
        "    norm.append(LA.norm(grad_func_one))\n",
        "\n",
        "  #print('norm after iteration:',LA.norm(grad_f),'\\n')\n",
        "  print('function eval:', count)\n",
        "  print('x position after algrithm:', x,'\\n')\n",
        "  print('iter took :',k ,'\\n')\n",
        "  print('function valuve at x is :',Rosenbrock_func(1,x),'\\n')\n",
        "\n",
        "  print('\\n')\n",
        "  print('\\n')\n",
        "\n",
        "\n",
        "  print('cost value graph','\\n')\n",
        "  pyplot.yscale('log')\n",
        "  plt.plot(cost)\n",
        "  plt.ylabel('cost value')\n",
        "  plt.xlabel('iteraions')\n",
        "  plt.show()\n",
        "  \n",
        "  print('\\n')\n",
        "  print('\\n')\n",
        "\n",
        "  print('grad norm graph \\n')\n",
        "  pyplot.yscale('log')\n",
        "  plt.plot(norm)\n",
        "  plt.ylabel('grad norm')\n",
        "  plt.xlabel('iteraions')\n",
        "  plt.show()\n",
        "  \n",
        "  print('\\n')\n",
        "  print('\\n')\n",
        "\n",
        "  return x\n",
        "\n",
        "\n",
        "\n",
        "   "
      ],
      "metadata": {
        "id": "kHI8aTFfIVOP"
      },
      "execution_count": null,
      "outputs": []
    },
    {
      "cell_type": "code",
      "source": [
        "FR_CG_A1(x0 = np.array([[-1.2],[1.]]), \n",
        "         rho = 0.5,\n",
        "         alpha_0 = 1, \n",
        "         c = 0.01, \n",
        "         tol = 1e-3)"
      ],
      "metadata": {
        "colab": {
          "base_uri": "https://localhost:8080/",
          "height": 992
        },
        "id": "_cwtuLt06A6O",
        "outputId": "653d2596-200e-442f-d96d-dadb0d48ec7a"
      },
      "execution_count": null,
      "outputs": [
        {
          "output_type": "stream",
          "name": "stdout",
          "text": [
            "function eval: 74\n",
            "x position after algrithm: [[1.00052773]\n",
            " [1.00127929]] \n",
            "\n",
            "iter took : 15 \n",
            "\n",
            "function valuve at x is : 3.284753368254269e-07 \n",
            "\n",
            "\n",
            "\n",
            "\n",
            "\n",
            "cost value graph \n",
            "\n"
          ]
        },
        {
          "output_type": "display_data",
          "data": {
            "text/plain": [
              "<Figure size 432x288 with 1 Axes>"
            ],
            "image/png": "[encoded data removed]"
          },
          "metadata": {
            "needs_background": "light"
          }
        },
        {
          "output_type": "stream",
          "name": "stdout",
          "text": [
            "\n",
            "\n",
            "\n",
            "\n",
            "grad norm graph \n",
            "\n"
          ]
        },
        {
          "output_type": "display_data",
          "data": {
            "text/plain": [
              "<Figure size 432x288 with 1 Axes>"
            ],
            "image/png": "[encoded data removed]"
          },
          "metadata": {
            "needs_background": "light"
          }
        },
        {
          "output_type": "stream",
          "name": "stdout",
          "text": [
            "\n",
            "\n",
            "\n",
            "\n"
          ]
        },
        {
          "output_type": "execute_result",
          "data": {
            "text/plain": [
              "array([[1.00052773],\n",
              "       [1.00127929]])"
            ]
          },
          "metadata": {},
          "execution_count": 12
        }
      ]
    },
    {
      "cell_type": "code",
      "source": [
        "def FR_CG_A100(x0, rho, alpha_0, c, tol):\n",
        "  x = x0\n",
        "  cost = []\n",
        "  norm = []\n",
        "\n",
        "  # Define Gradient function\n",
        "  g_func = np.array([[400*(x[0,0]**3) - 400*x[0,0]*x[1,0] + 2*x[0,0] - 2],[200*x[1,0]-200*(x[0,0]**2)]])\n",
        "  # Assign pk = -grad_func\n",
        "  pk = -g_func\n",
        "  k = 0\n",
        "  count = 0 \n",
        "\n",
        "  while LA.norm(g_func) > tol:\n",
        "    grad_func = np.array([[400*(x[0,0]**3) - 400*x[0,0]*x[1,0] + 2*x[0,0] - 2],[200*x[1,0]-200*(x[0,0]**2)]])\n",
        "    alpha = alpha_0\n",
        "    while Rosenbrock_func(100, x + alpha * (pk)) > Rosenbrock_func(100, x) + c * alpha * ((grad_func.T) @ (pk)):\n",
        "      alpha = rho * alpha\n",
        "      count += 2\n",
        "\n",
        "    x = x + alpha * (pk)\n",
        "    grad_func_one = np.array([[400*(x[0,0]**3) - 400*x[0,0]*x[1,0] + 2*x[0,0] - 2],[200*x[1,0]-200*(x[0,0]**2)]])\n",
        "    FR_beta = ((grad_func_one.T) @ (grad_func_one)) / ((grad_func.T) @ (grad_func))\n",
        "    pk = -grad_func_one + FR_beta * pk\n",
        "\n",
        "    # Check descent direction\n",
        "    if pk.T @ grad_func_one > 0:\n",
        "      pk = np.array([[400*(x[0,0]**3) - 400*x[0,0]*x[1,0] + 2*x[0,0] - 2],[200*x[1,0]-200*(x[0,0]**2)]])\n",
        "    \n",
        "    k = k + 1\n",
        "    g_func = grad_func_one\n",
        "\n",
        "    cost.append(Rosenbrock_func(100, x))\n",
        "    norm.append(LA.norm(grad_func_one))\n",
        "\n",
        "  #print('norm after iteration:',LA.norm(grad_f),'\\n')\n",
        "  print('function eval:', count)\n",
        "  print('x position after algrithm:', x,'\\n')\n",
        "  print('iter took :',k ,'\\n')\n",
        "  print('function valuve at x is :',Rosenbrock_func(1,x),'\\n')\n",
        "\n",
        "  print('\\n')\n",
        "  print('\\n')\n",
        "\n",
        "\n",
        "  print('cost value graph','\\n')\n",
        "  pyplot.yscale('log')\n",
        "  plt.plot(cost)\n",
        "  plt.ylabel('cost value')\n",
        "  plt.xlabel('iteraions')\n",
        "  plt.show()\n",
        "  \n",
        "  print('\\n')\n",
        "  print('\\n')\n",
        "\n",
        "  print('grad norm graph \\n')\n",
        "  pyplot.yscale('log')\n",
        "  plt.plot(norm)\n",
        "  plt.ylabel('grad norm')\n",
        "  plt.xlabel('iteraions')\n",
        "  plt.show()\n",
        "  \n",
        "  print('\\n')\n",
        "  print('\\n')\n",
        "\n",
        "  return x\n"
      ],
      "metadata": {
        "id": "IjesafNn63Ek"
      },
      "execution_count": null,
      "outputs": []
    },
    {
      "cell_type": "code",
      "source": [
        "FR_CG_A100(x0 = np.array([[-1.2],[1.]]), \n",
        "         rho = 0.5,\n",
        "         alpha_0 = 1, \n",
        "         c = 0.01, \n",
        "         tol = 1e-3)"
      ],
      "metadata": {
        "colab": {
          "base_uri": "https://localhost:8080/",
          "height": 992
        },
        "id": "pF6bkiwL7leQ",
        "outputId": "7b913208-3576-4575-b4da-92a4caff77fb"
      },
      "execution_count": null,
      "outputs": [
        {
          "output_type": "stream",
          "name": "stdout",
          "text": [
            "function eval: 3720\n",
            "x position after algrithm: [[0.99980077]\n",
            " [0.99960068]] \n",
            "\n",
            "iter took : 152 \n",
            "\n",
            "function valuve at x is : 3.96921639917385e-08 \n",
            "\n",
            "\n",
            "\n",
            "\n",
            "\n",
            "cost value graph \n",
            "\n"
          ]
        },
        {
          "output_type": "display_data",
          "data": {
            "text/plain": [
              "<Figure size 432x288 with 1 Axes>"
            ],
            "image/png": "[encoded data removed]"
          },
          "metadata": {
            "needs_background": "light"
          }
        },
        {
          "output_type": "stream",
          "name": "stdout",
          "text": [
            "\n",
            "\n",
            "\n",
            "\n",
            "grad norm graph \n",
            "\n"
          ]
        },
        {
          "output_type": "display_data",
          "data": {
            "text/plain": [
              "<Figure size 432x288 with 1 Axes>"
            ],
            "image/png": "[encoded data removed]"
          },
          "metadata": {
            "needs_background": "light"
          }
        },
        {
          "output_type": "stream",
          "name": "stdout",
          "text": [
            "\n",
            "\n",
            "\n",
            "\n"
          ]
        },
        {
          "output_type": "execute_result",
          "data": {
            "text/plain": [
              "array([[0.99980077],\n",
              "       [0.99960068]])"
            ]
          },
          "metadata": {},
          "execution_count": 22
        }
      ]
    }
  ]
}