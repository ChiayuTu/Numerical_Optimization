{
  "nbformat": 4,
  "nbformat_minor": 0,
  "metadata": {
    "colab": {
      "provenance": []
    },
    "kernelspec": {
      "name": "python3",
      "display_name": "Python 3"
    },
    "language_info": {
      "name": "python"
    }
  },
  "cells": [
    {
      "cell_type": "code",
      "execution_count": null,
      "metadata": {
        "id": "4sVhVIP0hVkR"
      },
      "outputs": [],
      "source": [
        "import numpy as np\n",
        "#function\n",
        "def function(x , y):\n",
        "  func_f = 100 * (y - x ** 2) ** 2 + (1 - x) ** 2\n",
        "  return func_f\n",
        "\n",
        "#Gradient function\n",
        "def gradient_f(x, y):\n",
        "  func_g = ([-400 * x * (y - x ** 2) - 2 * (1 - x)],\n",
        "            [200 * (y - x ** 2)])\n",
        "  return func_g\n",
        "\n",
        "#Hessian function\n",
        "def hessian_f(x, y):\n",
        "  func_h = ([-400 * y + 1200 * (x ** 2) + 2, -400 * x],\n",
        "            [-400 * x, 200])\n",
        "  return func_h\n",
        "\n",
        "hessian_f(0, 0)"
      ]
    },
    {
      "cell_type": "code",
      "source": [
        "#Steepest descent x = x0 - Gradient_f(x)\n",
        "x0 = ([0],\n",
        "      [0])\n",
        "DS = np.subtract(x0, gradient_f(0, 0))\n",
        "DS"
      ],
      "metadata": {
        "colab": {
          "base_uri": "https://localhost:8080/"
        },
        "id": "EVBwYfV8osin",
        "outputId": "26bf515a-17d6-4878-d6c7-43f7e99925e4"
      },
      "execution_count": null,
      "outputs": [
        {
          "output_type": "execute_result",
          "data": {
            "text/plain": [
              "array([[2],\n",
              "       [0]])"
            ]
          },
          "metadata": {},
          "execution_count": 22
        }
      ]
    },
    {
      "cell_type": "code",
      "source": [
        "#Newton iteration\n",
        "#inverse matrix\n",
        "inv_f = np.linalg.inv(hessian_f(0, 0))\n",
        "#inv_f\n",
        "x1 = inv_f @ gradient_f(0, 0)\n",
        "#x1\n",
        "NI = np.add(x0, x1)\n",
        "NI"
      ],
      "metadata": {
        "colab": {
          "base_uri": "https://localhost:8080/"
        },
        "id": "vnNWW0zDpjR-",
        "outputId": "1be5a5f7-08e8-44a7-fca4-624ed2e723ac"
      },
      "execution_count": null,
      "outputs": [
        {
          "output_type": "execute_result",
          "data": {
            "text/plain": [
              "array([[-1.],\n",
              "       [ 0.]])"
            ]
          },
          "metadata": {},
          "execution_count": 27
        }
      ]
    },
    {
      "cell_type": "code",
      "source": [],
      "metadata": {
        "id": "3HmMD1XjrsFB"
      },
      "execution_count": null,
      "outputs": []
    }
  ]
}